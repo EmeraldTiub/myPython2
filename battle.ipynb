{
 "cells": [
  {
   "cell_type": "code",
   "execution_count": 5,
   "id": "a0e58666",
   "metadata": {},
   "outputs": [
    {
     "name": "stdout",
     "output_type": "stream",
     "text": [
      "gou's health: 9000 | qing's health: 9000\n"
     ]
    }
   ],
   "source": [
    "from random import *\n",
    "qinghealth = 9000\n",
    "guohealth = 9000\n",
    "print(f\"gou's health: {guohealth} | qing's health: {qinghealth}\")"
   ]
  },
  {
   "cell_type": "code",
   "execution_count": null,
   "id": "5b4d5c62",
   "metadata": {},
   "outputs": [],
   "source": [
    "from random import *\n",
    "qinghealth = 9000\n",
    "guohealth = 9000\n",
    "print(f\"gou's health: {guohealth} | qing's health: {qinghealth}\")\n",
    "choices = [\"hit\", \"heal\"]\n",
    "answer =  str(input(\"Guo's Turn: \"))\n",
    "if answer == \"hit\":\n",
    "    qinghealth -= 90\n",
    "    print(f\"{guohealth} | {qinghealth}\")"
   ]
  },
  {
   "cell_type": "code",
   "execution_count": 22,
   "id": "7862d170",
   "metadata": {},
   "outputs": [
    {
     "name": "stdout",
     "output_type": "stream",
     "text": [
      "Qing's Turn: heal\n",
      "9000 | 8910\n",
      "9000 | 9010\n"
     ]
    },
    {
     "ename": "AttributeError",
     "evalue": "module 'IPython.display' has no attribute 'clear_input'",
     "output_type": "error",
     "traceback": [
      "\u001b[1;31m---------------------------------------------------------------------------\u001b[0m",
      "\u001b[1;31mAttributeError\u001b[0m                            Traceback (most recent call last)",
      "\u001b[1;32m<ipython-input-22-ea9fb184f678>\u001b[0m in \u001b[0;36m<module>\u001b[1;34m\u001b[0m\n\u001b[0;32m     23\u001b[0m         \u001b[0mqinghealth\u001b[0m \u001b[1;33m+=\u001b[0m \u001b[1;36m100\u001b[0m\u001b[1;33m\u001b[0m\u001b[1;33m\u001b[0m\u001b[0m\n\u001b[0;32m     24\u001b[0m         \u001b[0mprint\u001b[0m\u001b[1;33m(\u001b[0m\u001b[1;34mf\"{guohealth} | {qinghealth}\"\u001b[0m\u001b[1;33m)\u001b[0m\u001b[1;33m\u001b[0m\u001b[1;33m\u001b[0m\u001b[0m\n\u001b[1;32m---> 25\u001b[1;33m         \u001b[0mIPython\u001b[0m\u001b[1;33m.\u001b[0m\u001b[0mdisplay\u001b[0m\u001b[1;33m.\u001b[0m\u001b[0mclear_input\u001b[0m\u001b[1;33m(\u001b[0m\u001b[1;33m)\u001b[0m\u001b[1;33m\u001b[0m\u001b[1;33m\u001b[0m\u001b[0m\n\u001b[0m\u001b[0;32m     26\u001b[0m     \u001b[0manswer3\u001b[0m \u001b[1;33m=\u001b[0m \u001b[0mstr\u001b[0m\u001b[1;33m(\u001b[0m\u001b[0minput\u001b[0m\u001b[1;33m(\u001b[0m\u001b[1;34m\"Gou's Turn: \"\u001b[0m\u001b[1;33m)\u001b[0m\u001b[1;33m)\u001b[0m\u001b[1;33m\u001b[0m\u001b[1;33m\u001b[0m\u001b[0m\n\u001b[0;32m     27\u001b[0m     \u001b[0mprint\u001b[0m\u001b[1;33m(\u001b[0m\u001b[1;34mf\"{guohealth} | {qinghealth}\"\u001b[0m\u001b[1;33m)\u001b[0m\u001b[1;33m\u001b[0m\u001b[1;33m\u001b[0m\u001b[0m\n",
      "\u001b[1;31mAttributeError\u001b[0m: module 'IPython.display' has no attribute 'clear_input'"
     ]
    }
   ],
   "source": [
    "from random import *\n",
    "import IPython.display\n",
    "qinghealth = 9000\n",
    "guohealth = 9000\n",
    "print(f\"gou's health: {guohealth} | qing's health: {qinghealth}\")\n",
    "choices = [\"hit\", \"heal\"]\n",
    "answer =  str(input(\"Guo's Turn: \"))\n",
    "for x in range(50):\n",
    "    if answer == \"hit\":\n",
    "        qinghealth -= 90\n",
    "        print(f\"{guohealth} | {qinghealth}\")\n",
    "        IPython.display.clear_output()\n",
    "    elif answer == \"heal\":\n",
    "        guohealth += 100\n",
    "        print(f\"{guohealth} | {qinghealth}\")\n",
    "        IPython.display.clear_output()\n",
    "    answer2 = str(input(\"Qing's Turn: \"))\n",
    "    print(f\"{guohealth} | {qinghealth}\")\n",
    "    if answer2 == \"hit\":\n",
    "        guohealth -= 100\n",
    "        print(f\"{guohealth} | {qinghealth}\")\n",
    "    elif answer2 == \"heal\":\n",
    "        qinghealth += 100\n",
    "        print(f\"{guohealth} | {qinghealth}\")\n",
    "        IPython.display.clear_input()\n",
    "    answer3 = str(input(\"Gou's Turn: \"))\n",
    "    print(f\"{guohealth} | {qinghealth}\")\n",
    "if guohealth == 0:\n",
    "    print(\"qing wins!\")\n",
    "elif qinghealth == 0:\n",
    "    print(\"guo wins!\")"
   ]
  },
  {
   "cell_type": "code",
   "execution_count": null,
   "id": "728ec4e9",
   "metadata": {},
   "outputs": [],
   "source": []
  },
  {
   "cell_type": "code",
   "execution_count": null,
   "id": "3c6d4b92",
   "metadata": {},
   "outputs": [],
   "source": []
  }
 ],
 "metadata": {
  "kernelspec": {
   "display_name": "Python 3",
   "language": "python",
   "name": "python3"
  }
 },
 "nbformat": 4,
 "nbformat_minor": 5
}
